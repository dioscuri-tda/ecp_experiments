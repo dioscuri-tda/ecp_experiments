{
 "cells": [
  {
   "cell_type": "code",
   "execution_count": 1,
   "id": "5f02a1e7",
   "metadata": {},
   "outputs": [],
   "source": [
    "import numpy as np\n",
    "import pandas as pd\n",
    "import matplotlib.pyplot as plt\n",
    "\n",
    "from PIL import Image, ImageOps\n",
    "\n",
    "from tqdm.notebook import tqdm"
   ]
  },
  {
   "cell_type": "markdown",
   "id": "a3a6390e",
   "metadata": {},
   "source": [
    "## Sample image"
   ]
  },
  {
   "cell_type": "code",
   "execution_count": 16,
   "id": "e9f30d26",
   "metadata": {},
   "outputs": [],
   "source": [
    "def save_image(data, filename):\n",
    "    fig = plt.figure(figsize=(1, 1))\n",
    "    ax = plt.Axes(fig, [0., 0., 1., 1.])\n",
    "    ax.set_axis_off()\n",
    "    fig.add_axes(ax)\n",
    "    ax.imshow(data, cmap=\"gray\")\n",
    "    fig.savefig(filename, dpi=data.shape[0]) \n",
    "    plt.close(fig)"
   ]
  },
  {
   "cell_type": "code",
   "execution_count": null,
   "id": "7dea9c38",
   "metadata": {},
   "outputs": [],
   "source": [
    "save"
   ]
  },
  {
   "cell_type": "code",
   "execution_count": 21,
   "id": "bb4447d9",
   "metadata": {},
   "outputs": [],
   "source": [
    "tissue_rgb = Image.open(\"osfstorage-archive/rois/1_1.tiff\")\n",
    "\n",
    "grayscale_img = ImageOps.grayscale(tissue_rgb)\n",
    "\n",
    "save_image(np.array(tissue_rgb), '1_1_raw.pdf')\n",
    "save_image(np.array(grayscale_img), '1_1_grayscale.pdf')\n",
    "save_image(np.zeros((512, 512)), 'placeholder.pdf')"
   ]
  },
  {
   "cell_type": "markdown",
   "id": "6bf4c846",
   "metadata": {},
   "source": [
    "## Color normalization\n",
    "https://digitalslidearchive.github.io/HistomicsTK/examples/color_normalization_and_augmentation.html#Reinhard-normalization---without-masking"
   ]
  },
  {
   "cell_type": "code",
   "execution_count": null,
   "id": "812908c5",
   "metadata": {},
   "outputs": [],
   "source": [
    "from histomicstk.preprocessing.color_normalization import reinhard"
   ]
  },
  {
   "cell_type": "code",
   "execution_count": null,
   "id": "59417796",
   "metadata": {},
   "outputs": [],
   "source": [
    "# color norm. standard (from TCGA-A2-A3XS-DX1, Amgad et al, 2019)\n",
    "cnorm = {\n",
    "    'mu': np.array([8.74108109, -0.12440419,  0.0444982]),\n",
    "    'sigma': np.array([0.6135447, 0.10989545, 0.0286032]),\n",
    "}"
   ]
  },
  {
   "cell_type": "code",
   "execution_count": null,
   "id": "dafc3437",
   "metadata": {},
   "outputs": [],
   "source": [
    "tissue_rgb_normalized = reinhard(\n",
    "    tissue_rgb, target_mu=cnorm['mu'], target_sigma=cnorm['sigma'])\n",
    "\n"
   ]
  }
 ],
 "metadata": {
  "kernelspec": {
   "display_name": "Python 3 (ipykernel)",
   "language": "python",
   "name": "python3"
  },
  "language_info": {
   "codemirror_mode": {
    "name": "ipython",
    "version": 3
   },
   "file_extension": ".py",
   "mimetype": "text/x-python",
   "name": "python",
   "nbconvert_exporter": "python",
   "pygments_lexer": "ipython3",
   "version": "3.8.10"
  }
 },
 "nbformat": 4,
 "nbformat_minor": 5
}
